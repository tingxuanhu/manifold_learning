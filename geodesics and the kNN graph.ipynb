{
 "cells": [
  {
   "cell_type": "code",
   "execution_count": 2,
   "outputs": [
    {
     "data": {
      "text/plain": "<Figure size 432x432 with 1 Axes>",
      "image/png": "[encoded data removed]"
     },
     "metadata": {
      "needs_background": "light"
     },
     "output_type": "display_data"
    }
   ],
   "source": [
    "import numpy as np\n",
    "import matplotlib.pyplot as plt\n",
    "import seaborn as sns\n",
    "\n",
    "plt.figure(figsize=(6,6))\n",
    "from IPython.core.interactiveshell import InteractiveShell\n",
    "InteractiveShell.ast_node_interactivity = \"all\"\n",
    "np.random.seed(8888)\n",
    "\n",
    "# spiral dataset\n",
    "n = np.sqrt(np.random.rand(200, 1)) * 1400 * (2 * np.pi) / 360\n",
    "dlx = -np.cos(n) * n + np.random.rand(200, 1) * .8\n",
    "dly = np.sin(n) * n + np.random.rand(200, 1) * .8\n",
    "\n",
    "plt.scatter(dlx, dly, c = 'black', s=40)\n",
    "plt.title('Spiral Dataset')\n",
    "X = np.hstack((dlx, dly))"
   ],
   "metadata": {
    "collapsed": false,
    "pycharm": {
     "name": "#%%\n"
    }
   }
  },
  {
   "cell_type": "code",
   "execution_count": 10,
   "outputs": [
    {
     "data": {
      "text/plain": "array([[-9.14314745e+00, -2.14466677e+01],\n       [-1.08644440e+00,  2.08346244e+01],\n       [ 1.42637939e+01, -7.81429727e+00],\n       [ 3.64566144e+00, -1.62862982e+00],\n       [-5.89001190e+00,  1.82535842e+00],\n       [ 2.19762621e+01,  4.81788420e+00],\n       [-1.82296132e+01,  3.43288924e+00],\n       [-1.85523756e+00, -1.70460848e+01],\n       [ 8.83181382e+00,  3.58008055e+00],\n       [-1.47796195e+01, -9.86185483e+00],\n       [-1.67372324e+01, -6.87316860e+00],\n       [-3.77350676e+00, -3.64121921e+00],\n       [-1.76781545e+01, -3.65185648e+00],\n       [ 2.10008600e+01, -8.32050837e+00],\n       [-1.17218737e+01, -2.03064883e+01],\n       [-3.04529795e+00,  7.24187608e+00],\n       [-1.59118884e+01,  1.10099014e+01],\n       [ 1.19781438e+01,  1.80097652e+01],\n       [-9.33094186e+00, -1.45951484e+01],\n       [-1.17879025e+01,  4.41274429e-01],\n       [-5.86228975e-01,  2.05955353e+01],\n       [ 1.82170737e+01,  1.25934214e+01],\n       [-1.56121104e+01, -7.87255390e+00],\n       [ 8.93884942e+00,  4.17280630e+00],\n       [-1.49106168e+00,  2.03216933e+01],\n       [-8.88273285e+00,  9.65099105e+00],\n       [ 1.60714912e+00,  1.86162718e+00],\n       [ 2.22220690e+01, -1.32868633e+00],\n       [ 1.58901419e+01, -3.50766387e-02],\n       [ 2.04032426e+00,  2.06336767e+01],\n       [ 2.20808967e+01, -1.51771574e+00],\n       [-4.97686148e+00,  4.89939451e+00],\n       [ 1.13347138e-01, -4.66351973e+00],\n       [-1.83068751e+01,  2.71593516e+00],\n       [ 1.43337706e+01,  7.19497952e+00],\n       [ 1.35970764e+01, -9.03699900e+00],\n       [ 4.82046220e+00, -8.84833853e+00],\n       [ 6.28855082e+00,  2.05347217e+01],\n       [-1.72059042e+01, -4.98964004e+00],\n       [-5.57301015e+00,  2.85940114e+00],\n       [-1.21318397e+01,  1.33127039e+00],\n       [ 1.81179070e+01, -1.42184261e+01],\n       [ 1.02565829e+01,  1.82721117e+01],\n       [ 6.84085974e+00, -7.98242060e+00],\n       [-9.90664515e+00, -5.27867702e+00],\n       [ 6.30698296e+00,  1.37197279e+01],\n       [ 8.73127481e+00, -2.13762079e+01],\n       [ 1.17839123e+01,  9.97371271e+00],\n       [ 2.04454118e+01, -9.79240718e+00],\n       [-8.17130335e+00, -1.46839480e+01],\n       [ 2.21078343e+01,  3.43664555e+00],\n       [-5.63789680e+00,  2.37648180e+00],\n       [ 1.40492245e+01,  7.09987454e+00],\n       [ 1.99988188e+00,  1.45482845e+01],\n       [ 2.00475334e+01, -9.85082700e+00],\n       [-1.76691074e+01, -1.61220378e+01],\n       [ 3.33588608e+00, -7.27781873e-03],\n       [ 9.56417384e+00,  2.59550350e+00],\n       [ 2.34332245e+00, -1.68406736e+01],\n       [ 4.15054119e+00, -1.63266822e+01],\n       [ 7.95433119e+00, -7.14342186e+00],\n       [ 1.31522409e+01, -1.91144403e+01],\n       [ 9.88384656e+00, -1.65814270e+00],\n       [ 2.18880842e+01,  4.90113411e+00],\n       [ 1.16068947e+00,  2.05729758e+01],\n       [-6.99241378e+00,  1.94588379e+01],\n       [ 1.08215305e+01,  1.85785204e+01],\n       [-1.08882463e+01, -4.65358418e+00],\n       [-1.00040350e+01,  8.68959878e+00],\n       [-1.18184879e+01,  1.42747522e+00],\n       [ 2.08038457e+01,  8.62704896e+00],\n       [ 1.60360134e+01, -2.80821731e+00],\n       [-6.67436767e+00, -9.03868521e+00],\n       [-9.66409886e+00, -2.14112158e+01],\n       [-1.76937233e-01, -1.69242279e+01],\n       [-3.83526270e+00, -3.15619979e+00],\n       [-7.93305757e+00, -1.54094653e+01],\n       [-1.38488056e+01, -1.02647521e+01],\n       [-1.03228326e+01, -4.96082327e+00],\n       [ 1.46939180e+01, -1.72566468e+01],\n       [-1.86938215e+00, -2.32073914e+01],\n       [ 3.41719688e+00,  8.37823794e+00],\n       [ 1.42115637e+01,  1.67539002e+01],\n       [-9.72141296e+00, -6.29170215e+00],\n       [ 8.82285370e+00,  3.33459226e+00],\n       [-1.64972125e+01, -1.76696921e+01],\n       [-1.31843326e+01, -1.13360957e+01],\n       [ 2.71833062e+00,  7.99336298e+00],\n       [-1.82356792e+01,  5.69117244e+00],\n       [ 1.48860575e+00, -3.94049490e+00],\n       [ 1.73524887e+00, -2.32097015e+01],\n       [ 5.80334289e+00,  2.06105641e+01],\n       [ 1.26871211e+01,  8.90379871e+00],\n       [-1.08468741e+01,  1.67283271e+01],\n       [-1.06053005e+00,  1.48091875e+01],\n       [-1.33305517e+01, -1.95454631e+01],\n       [-1.78605466e+01,  7.31062182e+00],\n       [-3.71862413e+00, -1.00423268e+01],\n       [ 1.27455185e+01, -1.07610046e+01],\n       [ 6.45021178e+00,  6.80098906e+00],\n       [-5.97813013e+00,  1.22075984e+01],\n       [-3.48758137e+00, -1.70322443e+01],\n       [ 1.45315607e+01,  5.77687210e+00],\n       [ 1.01959094e+01, -4.38044257e-01],\n       [-2.68616554e+00, -1.67882878e+01],\n       [ 9.50985036e+00, -2.15106096e+00],\n       [ 2.22371021e+01, -1.26414644e+00],\n       [ 3.93416866e+00, -1.45092553e+00],\n       [ 3.42604218e+00, -2.88358751e+00],\n       [ 1.13788299e+01,  1.00495720e+01],\n       [ 3.32402855e+00, -2.44281172e+00],\n       [-7.94735603e+00,  1.05735116e+01],\n       [ 1.78173891e+00,  8.64275581e+00],\n       [ 2.09936179e+01, -9.07649934e+00],\n       [-1.51782027e+01, -9.90748965e+00],\n       [ 1.99675244e+01,  8.98516802e+00],\n       [ 1.38124752e+01, -1.81043982e+01],\n       [ 1.41964059e+01,  1.65708216e+01],\n       [-4.26864464e+00,  6.36032636e+00],\n       [-1.03743307e+00, -1.68866061e+01],\n       [ 2.25650345e+01, -9.22279306e-01],\n       [-9.35711639e+00, -1.47576513e+01],\n       [ 1.93501456e+01,  1.07698459e+01],\n       [ 8.05843857e-01,  8.16327623e+00],\n       [-3.24509856e+00, -3.24393411e+00],\n       [-5.90694921e+00, -2.23407128e+01],\n       [-1.83675637e+01,  3.06544938e+00],\n       [-1.85647805e+00, -4.12264816e+00],\n       [-1.29651548e+01, -1.21025864e+01],\n       [-2.59224083e+00, -4.46804501e+00],\n       [-7.09709492e+00, -2.20910683e+01],\n       [ 1.33905235e+01, -1.82876448e+01],\n       [ 1.55816989e+01, -4.56972590e+00],\n       [ 9.41565819e+00, -2.06432595e+01],\n       [-1.84389726e+01, -5.61303729e-01],\n       [-1.03403457e+00,  2.04835858e+01],\n       [-9.08197674e+00,  1.76321242e+01],\n       [ 1.53608004e+01, -4.65770076e+00],\n       [ 1.49531529e+01,  6.17961806e+00],\n       [-5.78508415e+00, -2.25999770e+01],\n       [ 1.48334210e+01,  1.52794261e+01],\n       [ 9.75056067e+00, -2.98933087e+00],\n       [-1.68443690e+01,  9.41271398e+00],\n       [-3.16136145e+00,  6.37515849e+00],\n       [-1.72439936e+01,  8.41748698e+00],\n       [-5.05251690e+00, -9.90551896e+00],\n       [-1.63222074e+01, -7.93558416e+00],\n       [-6.47907630e+00,  1.21138776e+01],\n       [ 1.61652809e+00,  7.91736598e+00],\n       [ 5.50548875e+00,  2.05810118e+01],\n       [ 1.26227120e+01,  9.51612786e+00],\n       [-1.33966740e-01,  2.07858713e+01],\n       [ 2.99642663e+00, -9.77522382e+00],\n       [-3.99253800e+00, -1.01981857e+01],\n       [ 5.29598994e+00,  1.43363460e+01],\n       [ 9.71097495e+00, -1.33947359e+01],\n       [ 2.20807159e+01, -2.45223071e+00],\n       [ 1.68820587e+01,  1.42046306e+01],\n       [ 1.38200306e+01, -1.78835331e+01],\n       [-1.18190979e+01, -2.01224436e+01],\n       [ 7.83412381e+00, -7.21514640e+00],\n       [-1.27223146e+01,  1.44714130e+01],\n       [ 9.45120220e+00, -1.35688611e+01],\n       [-1.81408496e+01, -1.82425882e+00],\n       [-1.42464902e+01,  1.38459380e+01],\n       [-1.19008822e+01, -1.24011073e+01],\n       [ 1.84780805e-02, -1.70190443e+01],\n       [ 2.24531781e+01, -1.62526114e+00],\n       [-6.05378801e+00,  2.23252903e+00],\n       [ 8.69665670e+00, -5.16900578e+00],\n       [-5.44352188e+00, -1.62141981e+01],\n       [ 9.46905758e+00,  1.89757727e+01],\n       [ 2.05057107e+00, -1.65605345e+01],\n       [ 4.54621776e+00, -1.65977716e+01],\n       [-1.77398480e+01, -1.55731334e+01],\n       [ 1.05107670e+01,  1.84604795e+01],\n       [-2.83379792e+00,  1.39441802e+01],\n       [-8.13357918e+00, -1.49578923e+01],\n       [-1.81762922e+01,  4.72463535e+00],\n       [-3.06394527e+00,  1.35200344e+01],\n       [ 1.27671977e+01, -1.10326702e+01],\n       [ 1.87199119e+01, -1.35815576e+01],\n       [ 1.22282328e+01,  9.51686958e+00],\n       [-9.86661799e+00,  1.79371574e+01],\n       [ 1.74155019e+01,  1.31518269e+01],\n       [ 1.19491675e+01,  1.82161956e+01],\n       [ 1.29342489e+01, -1.02622395e+01],\n       [-1.30372561e+01,  1.46836479e+01],\n       [ 1.31377650e+00,  1.42230542e+01],\n       [ 1.63846359e+01, -1.60986729e+01],\n       [ 1.99790810e+01, -1.12813451e+01],\n       [ 1.60107338e+01, -8.96638668e-01],\n       [-1.30527833e+01, -1.96424542e+01],\n       [-1.88622798e+01,  7.60134382e-01],\n       [-3.03308334e+00,  6.86569130e+00],\n       [-5.72202198e+00,  3.86651433e+00],\n       [ 6.97400903e+00,  6.33308960e+00],\n       [ 2.01935275e+00,  2.07215268e+00],\n       [ 9.10659709e+00, -1.41198950e+01],\n       [-3.71763597e+00,  6.20234002e+00]])"
     },
     "execution_count": 10,
     "metadata": {},
     "output_type": "execute_result"
    }
   ],
   "source": [
    "X"
   ],
   "metadata": {
    "collapsed": false,
    "pycharm": {
     "name": "#%%\n"
    }
   }
  },
  {
   "cell_type": "code",
   "execution_count": 5,
   "outputs": [
    {
     "data": {
      "text/plain": "(200, 2)"
     },
     "execution_count": 5,
     "metadata": {},
     "output_type": "execute_result"
    }
   ],
   "source": [
    "X.shape"
   ],
   "metadata": {
    "collapsed": false,
    "pycharm": {
     "name": "#%%\n"
    }
   }
  },
  {
   "cell_type": "code",
   "execution_count": 4,
   "outputs": [
    {
     "data": {
      "text/plain": "array([[ 0.        , 43.04205062, 27.08738503, ..., 26.03336938,\n        19.6655733 , 28.17629856],\n       [43.04205062,  0.        , 32.50216192, ..., 19.01778957,\n        36.41039031, 14.86697397],\n       [27.08738503, 32.50216192,  0.        , ..., 15.73747861,\n         8.14599548, 22.79907766],\n       ...,\n       [26.03336938, 19.01778957, 15.73747861, ...,  0.        ,\n        17.67516454,  7.06905134],\n       [19.6655733 , 36.41039031,  8.14599548, ..., 17.67516454,\n         0.        , 24.03027654],\n       [28.17629856, 14.86697397, 22.79907766, ...,  7.06905134,\n        24.03027654,  0.        ]])"
     },
     "execution_count": 4,
     "metadata": {},
     "output_type": "execute_result"
    }
   ],
   "source": [
    "# compute pairwise distance matrix to find K nearest neighbors for each x_i in X\n",
    "from sklearn.metrics import pairwise_distances\n",
    "\n",
    "dist_matrix = pairwise_distances(X)\n",
    "dist_matrix"
   ],
   "metadata": {
    "collapsed": false,
    "pycharm": {
     "name": "#%%\n"
    }
   }
  },
  {
   "cell_type": "code",
   "execution_count": 6,
   "outputs": [
    {
     "data": {
      "text/plain": "(200, 200)"
     },
     "execution_count": 6,
     "metadata": {},
     "output_type": "execute_result"
    }
   ],
   "source": [
    "dist_matrix.shape"
   ],
   "metadata": {
    "collapsed": false,
    "pycharm": {
     "name": "#%%\n"
    }
   }
  },
  {
   "cell_type": "code",
   "execution_count": 12,
   "outputs": [
    {
     "data": {
      "text/plain": "array([[ 73., 130.,  14., ...,  95.,  76., 170.],\n       [135.,  20.,  24., ...,  65., 149.,  91.],\n       [ 35., 186.,  98., ...,  54., 169.,  60.],\n       ...,\n       [ 26.,  56., 107., ...,  87.,  89., 123.],\n       [162., 155., 180., ..., 131., 158., 116.],\n       [118., 143., 194., ...,  51., 168.,   4.]])"
     },
     "execution_count": 12,
     "metadata": {},
     "output_type": "execute_result"
    }
   ],
   "source": [
    "# function that outputs N x k matrix with k nearest neighbors for each observation in X\n",
    "def knn(X, k):\n",
    "    knn_matrix = np.zeros((len(X), k))\n",
    "    dist_matrix = pairwise_distances(X)\n",
    "\n",
    "    for i in range(len(X)):\n",
    "        knn_matrix[i] = dist_matrix[i, :].argsort()[1:k+1]\n",
    "    return knn_matrix\n",
    "\n",
    "X_neighbors = knn(X, k=10)\n",
    "X_neighbors"
   ],
   "metadata": {
    "collapsed": false,
    "pycharm": {
     "name": "#%%\n"
    }
   }
  },
  {
   "cell_type": "code",
   "execution_count": 14,
   "outputs": [
    {
     "data": {
      "text/plain": "array([ 73., 130.,  14., 159., 125., 139., 192.,  95.,  76., 170.])"
     },
     "execution_count": 14,
     "metadata": {},
     "output_type": "execute_result"
    }
   ],
   "source": [
    "X_neighbors[0]"
   ],
   "metadata": {
    "collapsed": false,
    "pycharm": {
     "name": "#%%\n"
    }
   }
  },
  {
   "cell_type": "code",
   "execution_count": null,
   "outputs": [],
   "source": [
    "plt.figure(figsize=(6,6))\n",
    "plt.scatter(X[:, 0], X[:, 1], alpha=.3, c='black', s=50)\n",
    "\n",
    "for i in range(len(X)):\n",
    "    neighbors = X_neighbors[i]\n",
    "    for j in range(len(neighbors)):\n",
    "        plt.plot()"
   ],
   "metadata": {
    "collapsed": false,
    "pycharm": {
     "name": "#%%\n"
    }
   }
  }
 ],
 "metadata": {
  "kernelspec": {
   "display_name": "Python 3",
   "language": "python",
   "name": "python3"
  },
  "language_info": {
   "codemirror_mode": {
    "name": "ipython",
    "version": 2
   },
   "file_extension": ".py",
   "mimetype": "text/x-python",
   "name": "python",
   "nbconvert_exporter": "python",
   "pygments_lexer": "ipython2",
   "version": "2.7.6"
  }
 },
 "nbformat": 4,
 "nbformat_minor": 0
}